{
 "cells": [
  {
   "cell_type": "code",
   "execution_count": 5,
   "metadata": {},
   "outputs": [],
   "source": [
    "import math\n",
    "import pandas_datareader as web\n",
    "import numpy as np\n",
    "import pandas as pd\n",
    "from sklearn.preprocessing import MinMaxScaler\n",
    "from keras.models import Sequential\n",
    "from keras.layers import Dense, LSTM\n",
    "import matplotlib.pyplot as plt\n",
    "plt.style.use('fivethirtyeight')"
   ]
  },
  {
   "cell_type": "code",
   "execution_count": 7,
   "metadata": {},
   "outputs": [],
   "source": [
    "data=web.get_data_yahoo('^GDAXI',start = \"2009-01-01\", end = \"2020-04-30\")"
   ]
  },
  {
   "cell_type": "code",
   "execution_count": 8,
   "metadata": {},
   "outputs": [
    {
     "data": {
      "text/html": [
       "<div>\n",
       "<style scoped>\n",
       "    .dataframe tbody tr th:only-of-type {\n",
       "        vertical-align: middle;\n",
       "    }\n",
       "\n",
       "    .dataframe tbody tr th {\n",
       "        vertical-align: top;\n",
       "    }\n",
       "\n",
       "    .dataframe thead th {\n",
       "        text-align: right;\n",
       "    }\n",
       "</style>\n",
       "<table border=\"1\" class=\"dataframe\">\n",
       "  <thead>\n",
       "    <tr style=\"text-align: right;\">\n",
       "      <th></th>\n",
       "      <th>High</th>\n",
       "      <th>Low</th>\n",
       "      <th>Open</th>\n",
       "      <th>Close</th>\n",
       "      <th>Volume</th>\n",
       "      <th>Adj Close</th>\n",
       "    </tr>\n",
       "    <tr>\n",
       "      <th>Date</th>\n",
       "      <th></th>\n",
       "      <th></th>\n",
       "      <th></th>\n",
       "      <th></th>\n",
       "      <th></th>\n",
       "      <th></th>\n",
       "    </tr>\n",
       "  </thead>\n",
       "  <tbody>\n",
       "    <tr>\n",
       "      <th>2009-01-02</th>\n",
       "      <td>4974.729980</td>\n",
       "      <td>4838.490234</td>\n",
       "      <td>4856.850098</td>\n",
       "      <td>4973.069824</td>\n",
       "      <td>91772100.0</td>\n",
       "      <td>4973.069824</td>\n",
       "    </tr>\n",
       "    <tr>\n",
       "      <th>2009-01-05</th>\n",
       "      <td>5034.850098</td>\n",
       "      <td>4949.359863</td>\n",
       "      <td>5010.180176</td>\n",
       "      <td>4983.990234</td>\n",
       "      <td>150630500.0</td>\n",
       "      <td>4983.990234</td>\n",
       "    </tr>\n",
       "    <tr>\n",
       "      <th>2009-01-06</th>\n",
       "      <td>5111.020020</td>\n",
       "      <td>4960.209961</td>\n",
       "      <td>4992.669922</td>\n",
       "      <td>5026.310059</td>\n",
       "      <td>120803000.0</td>\n",
       "      <td>5026.310059</td>\n",
       "    </tr>\n",
       "    <tr>\n",
       "      <th>2009-01-07</th>\n",
       "      <td>5010.970215</td>\n",
       "      <td>4914.220215</td>\n",
       "      <td>5008.620117</td>\n",
       "      <td>4937.470215</td>\n",
       "      <td>137572000.0</td>\n",
       "      <td>4937.470215</td>\n",
       "    </tr>\n",
       "    <tr>\n",
       "      <th>2009-01-08</th>\n",
       "      <td>4917.620117</td>\n",
       "      <td>4820.080078</td>\n",
       "      <td>4897.160156</td>\n",
       "      <td>4879.910156</td>\n",
       "      <td>156333900.0</td>\n",
       "      <td>4879.910156</td>\n",
       "    </tr>\n",
       "  </tbody>\n",
       "</table>\n",
       "</div>"
      ],
      "text/plain": [
       "                   High          Low         Open        Close       Volume  \\\n",
       "Date                                                                          \n",
       "2009-01-02  4974.729980  4838.490234  4856.850098  4973.069824   91772100.0   \n",
       "2009-01-05  5034.850098  4949.359863  5010.180176  4983.990234  150630500.0   \n",
       "2009-01-06  5111.020020  4960.209961  4992.669922  5026.310059  120803000.0   \n",
       "2009-01-07  5010.970215  4914.220215  5008.620117  4937.470215  137572000.0   \n",
       "2009-01-08  4917.620117  4820.080078  4897.160156  4879.910156  156333900.0   \n",
       "\n",
       "              Adj Close  \n",
       "Date                     \n",
       "2009-01-02  4973.069824  \n",
       "2009-01-05  4983.990234  \n",
       "2009-01-06  5026.310059  \n",
       "2009-01-07  4937.470215  \n",
       "2009-01-08  4879.910156  "
      ]
     },
     "execution_count": 8,
     "metadata": {},
     "output_type": "execute_result"
    }
   ],
   "source": [
    "data.head()"
   ]
  },
  {
   "cell_type": "code",
   "execution_count": 9,
   "metadata": {},
   "outputs": [
    {
     "name": "stdout",
     "output_type": "stream",
     "text": [
      "<class 'pandas.core.frame.DataFrame'>\n",
      "DatetimeIndex: 2869 entries, 2009-01-02 to 2020-04-30\n",
      "Data columns (total 6 columns):\n",
      " #   Column     Non-Null Count  Dtype  \n",
      "---  ------     --------------  -----  \n",
      " 0   High       2869 non-null   float64\n",
      " 1   Low        2869 non-null   float64\n",
      " 2   Open       2869 non-null   float64\n",
      " 3   Close      2869 non-null   float64\n",
      " 4   Volume     2869 non-null   float64\n",
      " 5   Adj Close  2869 non-null   float64\n",
      "dtypes: float64(6)\n",
      "memory usage: 156.9 KB\n"
     ]
    }
   ],
   "source": [
    "data.info()"
   ]
  },
  {
   "cell_type": "code",
   "execution_count": 11,
   "metadata": {},
   "outputs": [],
   "source": [
    "#keep only close column\n",
    "data_close=data.filter(['Close'])\n",
    "dataset=data_close.values"
   ]
  },
  {
   "cell_type": "code",
   "execution_count": 12,
   "metadata": {},
   "outputs": [
    {
     "data": {
      "text/plain": [
       "2296"
      ]
     },
     "execution_count": 12,
     "metadata": {},
     "output_type": "execute_result"
    }
   ],
   "source": [
    "#training data length\n",
    "train_len=math.ceil(len(dataset)*0.8)\n",
    "train_len"
   ]
  },
  {
   "cell_type": "code",
   "execution_count": 13,
   "metadata": {},
   "outputs": [
    {
     "data": {
      "text/plain": [
       "array([[0.12908355],\n",
       "       [0.13016237],\n",
       "       [0.1343431 ],\n",
       "       ...,\n",
       "       [0.70428812],\n",
       "       [0.73512118],\n",
       "       [0.71080916]])"
      ]
     },
     "execution_count": 13,
     "metadata": {},
     "output_type": "execute_result"
    }
   ],
   "source": [
    "#scale data to make model more efficient\n",
    "scaler=MinMaxScaler(feature_range=(0,1))\n",
    "scaled_data=scaler.fit_transform(dataset)\n",
    "scaled_data"
   ]
  },
  {
   "cell_type": "code",
   "execution_count": 15,
   "metadata": {},
   "outputs": [
    {
     "name": "stdout",
     "output_type": "stream",
     "text": [
      "[array([0.12908355, 0.13016237, 0.1343431 , 0.12556671, 0.11988041,\n",
      "       0.11039469, 0.10404553, 0.09587764, 0.07467853, 0.06622021,\n",
      "       0.06913941, 0.06418616, 0.05664955, 0.05875374, 0.05463128,\n",
      "       0.0506323 , 0.06524617, 0.06490533, 0.08419884, 0.07524753,\n",
      "       0.06638026, 0.05973077, 0.06999691, 0.08163722, 0.0833858 ,\n",
      "       0.09663732, 0.09882944, 0.08289678, 0.08532203, 0.07321744,\n",
      "       0.07379339, 0.06917501, 0.05435271, 0.05320279, 0.05421538,\n",
      "       0.03440325, 0.02667697, 0.02265627, 0.01776226, 0.02728651,\n",
      "       0.01751825, 0.00431314, 0.00240157, 0.02218108, 0.00287279,\n",
      "       0.        , 0.00253098, 0.02178988, 0.02446905, 0.02863003,\n",
      "       0.02837122, 0.03735508, 0.03174683, 0.03259148, 0.03724838,\n",
      "       0.03974576, 0.05037843, 0.0514641 , 0.0550136 , 0.05857791])]\n",
      "[0.05306348354663598]\n",
      "\n",
      "[array([0.12908355, 0.13016237, 0.1343431 , 0.12556671, 0.11988041,\n",
      "       0.11039469, 0.10404553, 0.09587764, 0.07467853, 0.06622021,\n",
      "       0.06913941, 0.06418616, 0.05664955, 0.05875374, 0.05463128,\n",
      "       0.0506323 , 0.06524617, 0.06490533, 0.08419884, 0.07524753,\n",
      "       0.06638026, 0.05973077, 0.06999691, 0.08163722, 0.0833858 ,\n",
      "       0.09663732, 0.09882944, 0.08289678, 0.08532203, 0.07321744,\n",
      "       0.07379339, 0.06917501, 0.05435271, 0.05320279, 0.05421538,\n",
      "       0.03440325, 0.02667697, 0.02265627, 0.01776226, 0.02728651,\n",
      "       0.01751825, 0.00431314, 0.00240157, 0.02218108, 0.00287279,\n",
      "       0.        , 0.00253098, 0.02178988, 0.02446905, 0.02863003,\n",
      "       0.02837122, 0.03735508, 0.03174683, 0.03259148, 0.03724838,\n",
      "       0.03974576, 0.05037843, 0.0514641 , 0.0550136 , 0.05857791]), array([0.13016237, 0.1343431 , 0.12556671, 0.11988041, 0.11039469,\n",
      "       0.10404553, 0.09587764, 0.07467853, 0.06622021, 0.06913941,\n",
      "       0.06418616, 0.05664955, 0.05875374, 0.05463128, 0.0506323 ,\n",
      "       0.06524617, 0.06490533, 0.08419884, 0.07524753, 0.06638026,\n",
      "       0.05973077, 0.06999691, 0.08163722, 0.0833858 , 0.09663732,\n",
      "       0.09882944, 0.08289678, 0.08532203, 0.07321744, 0.07379339,\n",
      "       0.06917501, 0.05435271, 0.05320279, 0.05421538, 0.03440325,\n",
      "       0.02667697, 0.02265627, 0.01776226, 0.02728651, 0.01751825,\n",
      "       0.00431314, 0.00240157, 0.02218108, 0.00287279, 0.        ,\n",
      "       0.00253098, 0.02178988, 0.02446905, 0.02863003, 0.02837122,\n",
      "       0.03735508, 0.03174683, 0.03259148, 0.03724838, 0.03974576,\n",
      "       0.05037843, 0.0514641 , 0.0550136 , 0.05857791, 0.05306348])]\n",
      "[0.05306348354663598, 0.031891054123149354]\n",
      "\n"
     ]
    }
   ],
   "source": [
    "#training dataset\n",
    "train_data=scaled_data[0:train_len,:]\n",
    "#split the data into x_train and y_train\n",
    "x_train=[]\n",
    "y_train=[]\n",
    "for i in range(60,len(train_data)):\n",
    "    x_train.append(train_data[i-60:i,0])\n",
    "    y_train.append(train_data[i,0])\n",
    "    if i<=61:\n",
    "        print(x_train)\n",
    "        print(y_train)\n",
    "        print()"
   ]
  },
  {
   "cell_type": "code",
   "execution_count": 16,
   "metadata": {},
   "outputs": [],
   "source": [
    "#convert x_train y_train into np\n",
    "x_train,y_train=np.array(x_train),np.array(y_train)"
   ]
  },
  {
   "cell_type": "code",
   "execution_count": 18,
   "metadata": {},
   "outputs": [
    {
     "data": {
      "text/plain": [
       "(2236, 60, 1)"
      ]
     },
     "execution_count": 18,
     "metadata": {},
     "output_type": "execute_result"
    }
   ],
   "source": [
    "#reshape xtrain data\n",
    "x_train=np.reshape(x_train,(x_train.shape[0],x_train.shape[1],1))\n",
    "x_train.shape"
   ]
  },
  {
   "cell_type": "code",
   "execution_count": 19,
   "metadata": {},
   "outputs": [],
   "source": [
    "#build lstm model\n",
    "model=Sequential()\n",
    "model.add(LSTM(50,return_sequences=True,input_shape=(x_train.shape[1],1)))\n",
    "model.add(LSTM(50,return_sequences=False))\n",
    "model.add(Dense(25))\n",
    "model.add(Dense(1))"
   ]
  },
  {
   "cell_type": "code",
   "execution_count": 21,
   "metadata": {},
   "outputs": [],
   "source": [
    "#compile model\n",
    "model.compile(optimizer='adam',loss='mean_squared_error')"
   ]
  },
  {
   "cell_type": "code",
   "execution_count": 22,
   "metadata": {},
   "outputs": [
    {
     "name": "stdout",
     "output_type": "stream",
     "text": [
      "WARNING:tensorflow:From C:\\Users\\PC\\anaconda3\\lib\\site-packages\\keras\\backend\\tensorflow_backend.py:422: The name tf.global_variables is deprecated. Please use tf.compat.v1.global_variables instead.\n",
      "\n",
      "Epoch 1/1\n",
      "2236/2236 [==============================] - 104s 47ms/step - loss: 0.0015\n"
     ]
    },
    {
     "data": {
      "text/plain": [
       "<keras.callbacks.callbacks.History at 0x2b4efda4d08>"
      ]
     },
     "execution_count": 22,
     "metadata": {},
     "output_type": "execute_result"
    }
   ],
   "source": [
    "#train the model\n",
    "model.fit(x_train,y_train,batch_size=1,epochs=1)"
   ]
  },
  {
   "cell_type": "code",
   "execution_count": 23,
   "metadata": {},
   "outputs": [],
   "source": [
    "#create the testing dataset\n",
    "test_data=scaled_data[train_len-60:,:]\n",
    "x_test=[]\n",
    "y_test=dataset[train_len:,:]\n",
    "for i in range(60,len(test_data)):\n",
    "    x_test.append(test_data[i-60:i])\n",
    "\n"
   ]
  },
  {
   "cell_type": "code",
   "execution_count": 24,
   "metadata": {},
   "outputs": [],
   "source": [
    "#convert data into to a np\n",
    "x_test=np.array(x_test)"
   ]
  },
  {
   "cell_type": "code",
   "execution_count": 25,
   "metadata": {},
   "outputs": [],
   "source": [
    "#reshape xtest\n",
    "x_test=np.reshape(x_test,(x_test.shape[0],x_test.shape[1],1))"
   ]
  },
  {
   "cell_type": "code",
   "execution_count": 26,
   "metadata": {},
   "outputs": [],
   "source": [
    "#get the model predicted price values\n",
    "predictions=model.predict(x_test)\n",
    "predictions=scaler.inverse_transform(predictions)"
   ]
  },
  {
   "cell_type": "code",
   "execution_count": 27,
   "metadata": {},
   "outputs": [
    {
     "data": {
      "text/plain": [
       "508.0699580061082"
      ]
     },
     "execution_count": 27,
     "metadata": {},
     "output_type": "execute_result"
    }
   ],
   "source": [
    "#evaluate the model rmse\n",
    "rmse=np.sqrt(np.mean(predictions-y_test)**2)\n",
    "rmse"
   ]
  },
  {
   "cell_type": "code",
   "execution_count": 33,
   "metadata": {},
   "outputs": [
    {
     "name": "stderr",
     "output_type": "stream",
     "text": [
      "C:\\Users\\PC\\anaconda3\\lib\\site-packages\\ipykernel_launcher.py:4: SettingWithCopyWarning: \n",
      "A value is trying to be set on a copy of a slice from a DataFrame.\n",
      "Try using .loc[row_indexer,col_indexer] = value instead\n",
      "\n",
      "See the caveats in the documentation: https://pandas.pydata.org/pandas-docs/stable/user_guide/indexing.html#returning-a-view-versus-a-copy\n",
      "  after removing the cwd from sys.path.\n"
     ]
    }
   ],
   "source": [
    "#plot data\n",
    "train=data[:train_len]\n",
    "valid=data[train_len:]\n",
    "valid['Predictions']=predictions\n"
   ]
  },
  {
   "cell_type": "code",
   "execution_count": 30,
   "metadata": {},
   "outputs": [
    {
     "data": {
      "image/png": "[encoded data removed]",
      "text/plain": [
       "<Figure size 720x720 with 1 Axes>"
      ]
     },
     "metadata": {},
     "output_type": "display_data"
    }
   ],
   "source": [
    "plt.figure(figsize=(10,10))\n",
    "plt.title('Model')\n",
    "plt.xlabel('Date')\n",
    "plt.ylabel('Close price')\n",
    "plt.plot(train['Close'])\n",
    "plt.plot(valid[['Close','Predictions']])\n",
    "plt.legend(['Train','Val','Predictions'])\n",
    "plt.show()"
   ]
  },
  {
   "cell_type": "code",
   "execution_count": 31,
   "metadata": {},
   "outputs": [
    {
     "data": {
      "text/html": [
       "<div>\n",
       "<style scoped>\n",
       "    .dataframe tbody tr th:only-of-type {\n",
       "        vertical-align: middle;\n",
       "    }\n",
       "\n",
       "    .dataframe tbody tr th {\n",
       "        vertical-align: top;\n",
       "    }\n",
       "\n",
       "    .dataframe thead th {\n",
       "        text-align: right;\n",
       "    }\n",
       "</style>\n",
       "<table border=\"1\" class=\"dataframe\">\n",
       "  <thead>\n",
       "    <tr style=\"text-align: right;\">\n",
       "      <th></th>\n",
       "      <th>High</th>\n",
       "      <th>Low</th>\n",
       "      <th>Open</th>\n",
       "      <th>Close</th>\n",
       "      <th>Volume</th>\n",
       "      <th>Adj Close</th>\n",
       "      <th>Predictions</th>\n",
       "    </tr>\n",
       "    <tr>\n",
       "      <th>Date</th>\n",
       "      <th></th>\n",
       "      <th></th>\n",
       "      <th></th>\n",
       "      <th></th>\n",
       "      <th></th>\n",
       "      <th></th>\n",
       "      <th></th>\n",
       "    </tr>\n",
       "  </thead>\n",
       "  <tbody>\n",
       "    <tr>\n",
       "      <th>2018-01-19</th>\n",
       "      <td>13445.469727</td>\n",
       "      <td>13294.809570</td>\n",
       "      <td>13297.740234</td>\n",
       "      <td>13434.450195</td>\n",
       "      <td>108147200.0</td>\n",
       "      <td>13434.450195</td>\n",
       "      <td>12638.096680</td>\n",
       "    </tr>\n",
       "    <tr>\n",
       "      <th>2018-01-22</th>\n",
       "      <td>13470.049805</td>\n",
       "      <td>13410.959961</td>\n",
       "      <td>13435.139648</td>\n",
       "      <td>13463.690430</td>\n",
       "      <td>95295700.0</td>\n",
       "      <td>13463.690430</td>\n",
       "      <td>12666.660156</td>\n",
       "    </tr>\n",
       "    <tr>\n",
       "      <th>2018-01-23</th>\n",
       "      <td>13596.889648</td>\n",
       "      <td>13517.809570</td>\n",
       "      <td>13577.139648</td>\n",
       "      <td>13559.599609</td>\n",
       "      <td>97239000.0</td>\n",
       "      <td>13559.599609</td>\n",
       "      <td>12704.592773</td>\n",
       "    </tr>\n",
       "    <tr>\n",
       "      <th>2018-01-24</th>\n",
       "      <td>13576.839844</td>\n",
       "      <td>13414.740234</td>\n",
       "      <td>13572.709961</td>\n",
       "      <td>13414.740234</td>\n",
       "      <td>105385100.0</td>\n",
       "      <td>13414.740234</td>\n",
       "      <td>12754.450195</td>\n",
       "    </tr>\n",
       "    <tr>\n",
       "      <th>2018-01-25</th>\n",
       "      <td>13443.360352</td>\n",
       "      <td>13222.469727</td>\n",
       "      <td>13374.379883</td>\n",
       "      <td>13298.360352</td>\n",
       "      <td>106119200.0</td>\n",
       "      <td>13298.360352</td>\n",
       "      <td>12780.723633</td>\n",
       "    </tr>\n",
       "    <tr>\n",
       "      <th>...</th>\n",
       "      <td>...</td>\n",
       "      <td>...</td>\n",
       "      <td>...</td>\n",
       "      <td>...</td>\n",
       "      <td>...</td>\n",
       "      <td>...</td>\n",
       "      <td>...</td>\n",
       "    </tr>\n",
       "    <tr>\n",
       "      <th>2020-04-24</th>\n",
       "      <td>10486.469727</td>\n",
       "      <td>10299.309570</td>\n",
       "      <td>10299.309570</td>\n",
       "      <td>10336.089844</td>\n",
       "      <td>120035000.0</td>\n",
       "      <td>10336.089844</td>\n",
       "      <td>9996.100586</td>\n",
       "    </tr>\n",
       "    <tr>\n",
       "      <th>2020-04-27</th>\n",
       "      <td>10660.360352</td>\n",
       "      <td>10523.099609</td>\n",
       "      <td>10551.070312</td>\n",
       "      <td>10659.990234</td>\n",
       "      <td>122476600.0</td>\n",
       "      <td>10659.990234</td>\n",
       "      <td>9983.049805</td>\n",
       "    </tr>\n",
       "    <tr>\n",
       "      <th>2020-04-28</th>\n",
       "      <td>10897.820312</td>\n",
       "      <td>10651.580078</td>\n",
       "      <td>10658.469727</td>\n",
       "      <td>10795.629883</td>\n",
       "      <td>146549900.0</td>\n",
       "      <td>10795.629883</td>\n",
       "      <td>10008.822266</td>\n",
       "    </tr>\n",
       "    <tr>\n",
       "      <th>2020-04-29</th>\n",
       "      <td>11125.349609</td>\n",
       "      <td>10789.519531</td>\n",
       "      <td>10812.740234</td>\n",
       "      <td>11107.740234</td>\n",
       "      <td>145350700.0</td>\n",
       "      <td>11107.740234</td>\n",
       "      <td>10064.466797</td>\n",
       "    </tr>\n",
       "    <tr>\n",
       "      <th>2020-04-30</th>\n",
       "      <td>11235.570312</td>\n",
       "      <td>10839.299805</td>\n",
       "      <td>11195.209961</td>\n",
       "      <td>10861.639648</td>\n",
       "      <td>162733400.0</td>\n",
       "      <td>10861.639648</td>\n",
       "      <td>10167.613281</td>\n",
       "    </tr>\n",
       "  </tbody>\n",
       "</table>\n",
       "<p>573 rows × 7 columns</p>\n",
       "</div>"
      ],
      "text/plain": [
       "                    High           Low          Open         Close  \\\n",
       "Date                                                                 \n",
       "2018-01-19  13445.469727  13294.809570  13297.740234  13434.450195   \n",
       "2018-01-22  13470.049805  13410.959961  13435.139648  13463.690430   \n",
       "2018-01-23  13596.889648  13517.809570  13577.139648  13559.599609   \n",
       "2018-01-24  13576.839844  13414.740234  13572.709961  13414.740234   \n",
       "2018-01-25  13443.360352  13222.469727  13374.379883  13298.360352   \n",
       "...                  ...           ...           ...           ...   \n",
       "2020-04-24  10486.469727  10299.309570  10299.309570  10336.089844   \n",
       "2020-04-27  10660.360352  10523.099609  10551.070312  10659.990234   \n",
       "2020-04-28  10897.820312  10651.580078  10658.469727  10795.629883   \n",
       "2020-04-29  11125.349609  10789.519531  10812.740234  11107.740234   \n",
       "2020-04-30  11235.570312  10839.299805  11195.209961  10861.639648   \n",
       "\n",
       "                 Volume     Adj Close   Predictions  \n",
       "Date                                                 \n",
       "2018-01-19  108147200.0  13434.450195  12638.096680  \n",
       "2018-01-22   95295700.0  13463.690430  12666.660156  \n",
       "2018-01-23   97239000.0  13559.599609  12704.592773  \n",
       "2018-01-24  105385100.0  13414.740234  12754.450195  \n",
       "2018-01-25  106119200.0  13298.360352  12780.723633  \n",
       "...                 ...           ...           ...  \n",
       "2020-04-24  120035000.0  10336.089844   9996.100586  \n",
       "2020-04-27  122476600.0  10659.990234   9983.049805  \n",
       "2020-04-28  146549900.0  10795.629883  10008.822266  \n",
       "2020-04-29  145350700.0  11107.740234  10064.466797  \n",
       "2020-04-30  162733400.0  10861.639648  10167.613281  \n",
       "\n",
       "[573 rows x 7 columns]"
      ]
     },
     "execution_count": 31,
     "metadata": {},
     "output_type": "execute_result"
    }
   ],
   "source": [
    "#show the valid and predicted prices\n",
    "valid"
   ]
  },
  {
   "cell_type": "code",
   "execution_count": null,
   "metadata": {},
   "outputs": [],
   "source": []
  },
  {
   "cell_type": "code",
   "execution_count": null,
   "metadata": {},
   "outputs": [],
   "source": []
  },
  {
   "cell_type": "code",
   "execution_count": null,
   "metadata": {},
   "outputs": [],
   "source": []
  },
  {
   "cell_type": "code",
   "execution_count": null,
   "metadata": {},
   "outputs": [],
   "source": []
  }
 ],
 "metadata": {
  "kernelspec": {
   "display_name": "Python 3",
   "language": "python",
   "name": "python3"
  },
  "language_info": {
   "codemirror_mode": {
    "name": "ipython",
    "version": 3
   },
   "file_extension": ".py",
   "mimetype": "text/x-python",
   "name": "python",
   "nbconvert_exporter": "python",
   "pygments_lexer": "ipython3",
   "version": "3.7.6"
  }
 },
 "nbformat": 4,
 "nbformat_minor": 4
}
